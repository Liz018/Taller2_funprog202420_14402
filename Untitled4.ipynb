{
  "nbformat": 4,
  "nbformat_minor": 0,
  "metadata": {
    "colab": {
      "provenance": [],
      "authorship_tag": "ABX9TyMdgxokjQjodPEwodjsSAdX",
      "include_colab_link": true
    },
    "kernelspec": {
      "name": "python3",
      "display_name": "Python 3"
    },
    "language_info": {
      "name": "python"
    }
  },
  "cells": [
    {
      "cell_type": "markdown",
      "metadata": {
        "id": "view-in-github",
        "colab_type": "text"
      },
      "source": [
        "<a href=\"https://colab.research.google.com/github/Liz018/Taller2_funprog202420_14402/blob/main/Untitled4.ipynb\" target=\"_parent\"><img src=\"https://colab.research.google.com/assets/colab-badge.svg\" alt=\"Open In Colab\"/></a>"
      ]
    },
    {
      "cell_type": "markdown",
      "source": [
        "#*PROGRAMACION Y ALGORITMIA TALLER #3*\n",
        "##*INTEGRANTES*\n",
        "LIZETH GABRIELA AGUDELO PULIDO\n",
        "\n",
        "ANA MILENA VILLALBA PACHECO"
      ],
      "metadata": {
        "id": "NIjSbLKNG0cu"
      }
    },
    {
      "cell_type": "markdown",
      "source": [
        "#*ALGORITMO PARA CALCULO DE LA FACTURA DE ENERGIA ELECTRICA*\n",
        "1. Inicar\n",
        "\n",
        "2. Pedir al usuario el consumo en kWh, costo por cada kWh, el estrato socioeconómico del usuario, la altitud de la zona donde vive el usuario.\n",
        "\n",
        "3. Determinar el consumo básico:\n",
        "\n",
        "    Si la altitud es más de 1000 metros, el consumo básico es 130 kWh.\n",
        "\n",
        "    Si la altitud es 1000 metros o menos, el consumo básico es 173 kWh.\n",
        "\n",
        "4. Calcular el costo total multiplicando el consumo por el costo del kWh.\n",
        "\n",
        "5. Aplicar el subsidio o la contribución segun el estrato socioeconomico:\n",
        "\n",
        "  Estrato 1: Si el consumo es menor o igual al consumo básico, aplicar un subsidio del 60% sobre el CU (COSTO UNITARIO).\n",
        "  \n",
        "  Estrato 2: Si el consumo es menor o igual al consumo básico, aplicar un subsidio del 50% sobre el CU.\n",
        "  \n",
        "  Estrato 3: Si el consumo es menor o igual al consumo básico, aplicar un subsidio del 15% sobre el CU.\n",
        "  \n",
        "  Estrato 4: Sin subsidio ni contribución.\n",
        "  \n",
        "  Estrato 5 y 6, o si es un usuario comercial: Aplicar una contribución del 20% sobre todo el consumo.\n",
        "\n",
        "\n",
        "6. Calcular el valor final restando o sumando lo que corresponda al costo total.\n",
        "\n",
        "7. mostrar el valor total en pesos colombianos.\n",
        "\n",
        "8. Mostrar el valor total de la factura.\n",
        "\n",
        "9. Finalizar"
      ],
      "metadata": {
        "id": "aX0KNr3PDy-F"
      }
    },
    {
      "cell_type": "markdown",
      "source": [
        "#*PSEUDOCODIGO*\n",
        "program Calcular_factura_de_energia_electrica\n",
        "\n",
        "start\n",
        "\n",
        "// DECLARACION DE VARIABLES\n",
        "\n",
        "Declare float consumo\n",
        "Declare float costo_kwh\n",
        "Declare integer estrato\n",
        "Declare integer altitud\n",
        "Declare float consumo_basico\n",
        "Declare float subtotal_basico\n",
        "Declare float subtotal_adicional\n",
        "Declare float subtotal\n",
        "Declare float subsidio\n",
        "Declare float contribucion\n",
        "Declare float total\n",
        "\n",
        "// PEDIR DATOS AL USUARIO\n",
        "\n",
        "Display \"Ingrese el consumo en kWh\"\n",
        "input consumo\n",
        "\n",
        "Display \"Ingrese el costo del kWh en COP\"\n",
        "input costo_kwh\n",
        "\n",
        "Display \"Ingrese el estrato socioeconómico (1-6)\"\n",
        "input estrato\n",
        "\n",
        "Display \"Ingrese la altitud de la zona (metros sobre el nivel del mar)\"\n",
        "input altitud\n",
        "\n",
        "// DETERMINAR EL CONSUMO BASICO\n",
        "\n",
        "if altitud > 1000 then\n",
        "    set consumo_basico = 130\n",
        "else\n",
        "    set consumo_basico = 173\n",
        "end if\n",
        "\n",
        "// CALCULAR EL SUBTOTAL\n",
        "\n",
        "if consumo <= consumo_basico then\n",
        "    set subtotal_basico = consumo * costo_kwh\n",
        "    set subtotal = subtotal_basico\n",
        "else\n",
        "    set subtotal_basico = consumo_basico * costo_kwh\n",
        "    set subtotal_adicional = (consumo - consumo_basico) * costo_kwh\n",
        "    set subtotal = subtotal_basico + subtotal_adicional\n",
        "end if\n",
        "\n",
        "// CALCULAR SUBSIDIO O CONTRIBUCIÓN SEGÚN EL ESTRATO\n",
        "\n",
        "set subsidio = 0\n",
        "set contribucion = 0\n",
        "\n",
        "if estrato == 1 then\n",
        "    set subsidio = subtotal_basico * 0.60\n",
        "elseif estrato == 2 then\n",
        "    set subsidio = subtotal_basico * 0.50\n",
        "elseif estrato == 3 then\n",
        "    set subsidio = subtotal_basico * 0.15\n",
        "elseif estrato == 5 or estrato == 6 then\n",
        "    set contribucion = subtotal * 0.20\n",
        "end if\n",
        "\n",
        "// CALCULAR  TOTAL A PAGAR\n",
        "\n",
        "set total = subtotal - subsidio + contribucion\n",
        "\n",
        "// MOSTRAR RESULTADO FNAL\n",
        "\n",
        "Display \"El total a pagar es: \", total, \"COP\"\n",
        "\n",
        "end\n"
      ],
      "metadata": {
        "id": "f_wFlcnZGUOp"
      }
    },
    {
      "cell_type": "code",
      "execution_count": 1,
      "metadata": {
        "colab": {
          "base_uri": "https://localhost:8080/"
        },
        "id": "pZZCrO7AASCe",
        "outputId": "d1840d3b-4d54-461c-84f0-9d1934489767"
      },
      "outputs": [
        {
          "output_type": "stream",
          "name": "stdout",
          "text": [
            "Ingrese el consumo en kWh: 100\n",
            "Ingrese el costo del kWh en COP: 500\n",
            "Ingrese el estrato socioeconómico (1-6): 1\n",
            "Ingrese la altitud de la zona (metros sobre el nivel del mar): 950\n",
            "El total a pagar es: 20000.0 COP\n"
          ]
        }
      ],
      "source": [
        "# Cálculo de la factura de energía eléctrica\n",
        "\n",
        "# Entradas del usuario\n",
        "consumo = float(input(\"Ingrese el consumo en kWh: \"))\n",
        "costo_kwh = float(input(\"Ingrese el costo del kWh en COP: \"))\n",
        "estrato = int(input(\"Ingrese el estrato socioeconómico (1-6): \"))\n",
        "altitud = int(input(\"Ingrese la altitud de la zona (metros sobre el nivel del mar): \"))\n",
        "\n",
        "# Determinar el consumo básico de acuerdo la altitud\n",
        "if altitud > 1000:\n",
        "    consumo_basico = 130\n",
        "else:\n",
        "    consumo_basico = 173\n",
        "\n",
        "# Calcular el subtotal\n",
        "if consumo <= consumo_basico:\n",
        "    subtotal = consumo * costo_kwh\n",
        "    subtotal_basico = subtotal  # Esto es para usar la misma variable en el cálculo del subsidio\n",
        "else:\n",
        "    subtotal_basico = consumo_basico * costo_kwh\n",
        "    subtotal_adicional = (consumo - consumo_basico) * costo_kwh\n",
        "    subtotal = subtotal_basico + subtotal_adicional\n",
        "\n",
        "# Aplicar subsidio o contribución de acuerdo al estrato\n",
        "subsidio = 0\n",
        "contribucion = 0\n",
        "\n",
        "if estrato == 1:\n",
        "    subsidio = subtotal_basico * 0.60\n",
        "elif estrato == 2:\n",
        "    subsidio = subtotal_basico * 0.50\n",
        "elif estrato == 3:\n",
        "    subsidio = subtotal_basico * 0.15\n",
        "elif estrato == 5 or estrato == 6:\n",
        "    contribucion = subtotal * 0.20\n",
        "\n",
        "# Calcular el total a pagar\n",
        "total = subtotal - subsidio + contribucion\n",
        "\n",
        "# Mostrar el resultado\n",
        "print(\"El total a pagar es:\", total, \"COP\")"
      ]
    }
  ]
}